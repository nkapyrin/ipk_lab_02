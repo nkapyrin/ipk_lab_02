{
  "nbformat": 4,
  "nbformat_minor": 0,
  "metadata": {
    "colab": {
      "name": "ipk_lab_02.ipynb",
      "version": "0.3.2",
      "provenance": [],
      "collapsed_sections": []
    },
    "kernelspec": {
      "name": "python3",
      "display_name": "Python 3"
    }
  },
  "cells": [
    {
      "metadata": {
        "id": "swbnnOXdSnlc",
        "colab_type": "text"
      },
      "cell_type": "markdown",
      "source": [
        "# Введение\n",
        "\n",
        "В этом примере мы рассмотрим, как устроены и обучаются рекуррентные нейроные сети (Recurrent NN, RNN).\n",
        "Рекуррентность -- это свойство некоторых слоёв или нейронов обращаться к собственным выходам как ко входам. \n",
        "\n",
        "Поскольку нейронная сеть вычисляет своё состояние в такт с вычислительными циклами, использование нейроном \"предыдущего этапа\" для вычисления текущего состояния эффективно реализует механизм памяти, который инженеры систем управления привыкли называть обратной связью в системе."
      ]
    },
    {
      "metadata": {
        "id": "K9Ww6hrJSnRN",
        "colab_type": "text"
      },
      "cell_type": "markdown",
      "source": [
        "# Первые действия\n",
        "\n",
        "Если при запуске ячеек блокнота возникают ошибки с описанием отсутствия некоторых библиотек на вашей машине, добавьте строки наподобие `!pip install sklearn` в следующую ячейку и выполните её.\n",
        "\n",
        "Таким же образом из блокнота можно вызывать любые команды терминала (перемещать файлы, отправлять информацию через внешние порты).\n"
      ]
    },
    {
      "metadata": {
        "id": "zsUHblZ0Smrr",
        "colab_type": "code",
        "colab": {
          "base_uri": "https://localhost:8080/",
          "height": 469
        },
        "outputId": "c01b9e02-4aca-432b-f4d1-c9fe959fac19"
      },
      "cell_type": "code",
      "source": [
        "!pip install sklearn\n",
        "!pip install torch\n",
        "!pip install torchvision\n",
        "!pip install textgenrnn"
      ],
      "execution_count": 8,
      "outputs": [
        {
          "output_type": "stream",
          "text": [
            "Requirement already satisfied: sklearn in /usr/local/lib/python3.6/dist-packages (0.0)\n",
            "Requirement already satisfied: scikit-learn in /usr/local/lib/python3.6/dist-packages (from sklearn) (0.19.2)\n",
            "Requirement already satisfied: torch in /usr/local/lib/python3.6/dist-packages (0.4.1)\n",
            "Requirement already satisfied: torchvision in /usr/local/lib/python3.6/dist-packages (0.2.1)\n",
            "Requirement already satisfied: torch in /usr/local/lib/python3.6/dist-packages (from torchvision) (0.4.1)\n",
            "Requirement already satisfied: pillow>=4.1.1 in /usr/local/lib/python3.6/dist-packages (from torchvision) (5.3.0)\n",
            "Requirement already satisfied: numpy in /usr/local/lib/python3.6/dist-packages (from torchvision) (1.14.6)\n",
            "Requirement already satisfied: six in /usr/local/lib/python3.6/dist-packages (from torchvision) (1.11.0)\n",
            "Collecting textgenrnn\n",
            "\u001b[?25l  Downloading https://files.pythonhosted.org/packages/ad/f8/f1968b2078a9076f481916fba5d98affa019943e4f5764224ffaeb57b7c7/textgenrnn-1.4.1.tar.gz (1.7MB)\n",
            "\u001b[K    100% |████████████████████████████████| 1.7MB 9.8MB/s \n",
            "\u001b[?25hRequirement already satisfied: keras>=2.1.5 in /usr/local/lib/python3.6/dist-packages (from textgenrnn) (2.2.4)\n",
            "Requirement already satisfied: h5py in /usr/local/lib/python3.6/dist-packages (from textgenrnn) (2.8.0)\n",
            "Requirement already satisfied: scikit-learn in /usr/local/lib/python3.6/dist-packages (from textgenrnn) (0.19.2)\n",
            "Requirement already satisfied: pyyaml in /usr/local/lib/python3.6/dist-packages (from keras>=2.1.5->textgenrnn) (3.13)\n",
            "Requirement already satisfied: numpy>=1.9.1 in /usr/local/lib/python3.6/dist-packages (from keras>=2.1.5->textgenrnn) (1.14.6)\n",
            "Requirement already satisfied: scipy>=0.14 in /usr/local/lib/python3.6/dist-packages (from keras>=2.1.5->textgenrnn) (1.1.0)\n",
            "Requirement already satisfied: keras-applications>=1.0.6 in /usr/local/lib/python3.6/dist-packages (from keras>=2.1.5->textgenrnn) (1.0.6)\n",
            "Requirement already satisfied: keras-preprocessing>=1.0.5 in /usr/local/lib/python3.6/dist-packages (from keras>=2.1.5->textgenrnn) (1.0.5)\n",
            "Requirement already satisfied: six>=1.9.0 in /usr/local/lib/python3.6/dist-packages (from keras>=2.1.5->textgenrnn) (1.11.0)\n",
            "Building wheels for collected packages: textgenrnn\n",
            "  Running setup.py bdist_wheel for textgenrnn ... \u001b[?25l-\b \b\\\b \bdone\n",
            "\u001b[?25h  Stored in directory: /root/.cache/pip/wheels/30/96/f7/bc7042ea671bc79455c244af21050a7a32d604fe2f7a44e322\n",
            "Successfully built textgenrnn\n",
            "Installing collected packages: textgenrnn\n",
            "Successfully installed textgenrnn-1.4.1\n"
          ],
          "name": "stdout"
        }
      ]
    },
    {
      "metadata": {
        "id": "c97YOj3-T5k0",
        "colab_type": "text"
      },
      "cell_type": "markdown",
      "source": [
        "Рекуррентные сети позволяют моделировать зависимости, на развитие которых имеет влияние их же собственная предыстория. Вряд ли можно назвать применения RNN, которые невозможны на других ANN, в конце концов обратные связи всега можно \"размотать\" и получить плоскую модель без обратных связей.\n",
        "\n",
        "![Каждый узел с обратной связью становится двумя узлами, один из которых обозначает прошлое состояние](http://www.wildml.com/wp-content/uploads/2015/09/rnn.jpg)\n",
        "\n",
        "Размотку даже используют, чтобы эффективно выстроить алгоритм обучения (оптисизации весов).\n",
        "\n",
        "Поскольку RNN меняют свой состояние после вызова, и могут при одинаковых входах бесконечно долго возвращать различные выводы, их часто используют как обучаемыме генераторы с задавами вроде:\n",
        "* сгенерировать много данных, похожих на выборку и обучить на них другую ANN (или сделать твит-бота который пишет новые тексты песен за некоторых артистов)\n",
        "* моделировать функцию на основе ограниченного набора данных, в которой есть временна́я переменная (научить нейросеть [генерировать синусоиду](https://gist.github.com/spro/ef26915065225df65c1187562eca7ec4) или торговую динамику) в том случае, если вам **не хочется думать о структуре модели** (ARMAX? NARMAX? AR(3)? MA(7)?)."
      ]
    },
    {
      "metadata": {
        "id": "r_779DvFSXLS",
        "colab_type": "code",
        "colab": {
          "base_uri": "https://localhost:8080/",
          "height": 34
        },
        "outputId": "35baf973-d151-41ab-ab67-a3b0c07cb1e9"
      },
      "cell_type": "code",
      "source": [
        "# Import Libraries\n",
        "#import torch\n",
        "#import torch.nn as nn\n",
        "#import torchvision.transforms as transforms\n",
        "#from torch.autograd import Variable\n",
        "#from sklearn.model_selection import train_test_split\n",
        "from google.colab import files\n",
        "from textgenrnn import textgenrnn\n",
        "import os"
      ],
      "execution_count": 10,
      "outputs": [
        {
          "output_type": "stream",
          "text": [
            "Using TensorFlow backend.\n"
          ],
          "name": "stderr"
        }
      ]
    },
    {
      "metadata": {
        "id": "hpziHqundF6U",
        "colab_type": "text"
      },
      "cell_type": "markdown",
      "source": [
        "В этой лабораторной рабоет мы будем пользоваться библиотекой `textgenrnn`, которая прячет от нас (абстрагирует нас от) всех промежуточных операций создания RNN для текстового корпуса.\n",
        "\n",
        "Когда мы обучаем новую модель, `textgenrnn` позволяет указать размер и сложность нейросети с хорошим набором параметров:"
      ]
    },
    {
      "metadata": {
        "id": "sZAvQLCsdFkN",
        "colab_type": "code",
        "colab": {}
      },
      "cell_type": "code",
      "source": [
        "model_cfg = {\n",
        "    'rnn_size': 128, # количество LSTM-нейронов на каждом уровне\n",
        "    'rnn_layers': 4, # количество слоёв RNN\n",
        "    'rnn_bidirectional': True, # включить обучение на тексте, прочитанном в обратную сторону (повышает качество обучения)\n",
        "    'max_length': 40, # количество признаков (слов или букв), на базе которых предсказывается следующий признак\n",
        "    'max_words': 10000, # наибольшее количество слов, котоыре будет знать сеть (только если признаки -- слова)\n",
        "    'dim_embeddings': 100, # ...\n",
        "    'word_level': False # если True, то мы хотим обучать модель на признаках-словах, но для этого требуется больший корпус и меньшее значение max_length\n",
        "}\n",
        "\n",
        "train_cfg = {\n",
        "    'line_delimited': False, # Установить в True если каждая порция текста начинается с новой строки\n",
        "    'num_epochs': 10, # чем больше, тем больше раз модель изучит корпус\n",
        "    'gen_epochs': 2, # генерировать проверочный текст после некоторого количества эпох\n",
        "    'batch_size': 1024, # ...\n",
        "    'train_size': 0.8, # процент данных, которые мы будем использовать в обучении (<1.0 не позволяет модели переобучиться)\n",
        "    'dropout': 0.8, # в каждую эпоху, игнорирует некоторую случайную часть входных данных, что позволяет модели лучше обобщить текст\n",
        "    'max_gen_length': 300, # ...\n",
        "    'validation': False, # если True, то после каждой эпохи будет проводиться валидация на остатке данных (обучение замедляется)\n",
        "    'is_csv': False # ...\n",
        "}"
      ],
      "execution_count": 0,
      "outputs": []
    },
    {
      "metadata": {
        "id": "TC_8fPRlTxnc",
        "colab_type": "text"
      },
      "cell_type": "markdown",
      "source": [
        "Пока, оставим эти параметры такими как есть. Запустите эти ячейки чтобы они сохранились в рабочей памяти. \n",
        "\n",
        "Мы дали время модулям загрузиться, теперь подумаем о наборе данных. У нас есть интересующие нас тексты в текстовых файлах, и загрузить их можно следующим образом:"
      ]
    },
    {
      "metadata": {
        "id": "qnDrcTD2SdPw",
        "colab_type": "code",
        "colab": {
          "resources": {
            "http://localhost:8080/nbextensions/google.colab/files.js": {
              "data": "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",
              "ok": true,
              "headers": [
                [
                  "content-type",
                  "application/javascript"
                ]
              ],
              "status": 200,
              "status_text": "OK"
            }
          },
          "base_uri": "https://localhost:8080/",
          "height": 147
        },
        "outputId": "52c51b7b-bb34-4ae4-c541-dd3366fe1b2c"
      },
      "cell_type": "code",
      "source": [
        "uploaded = files.upload()"
      ],
      "execution_count": 12,
      "outputs": [
        {
          "output_type": "display_data",
          "data": {
            "text/html": [
              "\n",
              "     <input type=\"file\" id=\"files-4377d51d-bcf4-4704-a6f9-867b7d5b56c5\" name=\"files[]\" multiple disabled />\n",
              "     <output id=\"result-4377d51d-bcf4-4704-a6f9-867b7d5b56c5\">\n",
              "      Upload widget is only available when the cell has been executed in the\n",
              "      current browser session. Please rerun this cell to enable.\n",
              "      </output>\n",
              "      <script src=\"/nbextensions/google.colab/files.js\"></script> "
            ],
            "text/plain": [
              "<IPython.core.display.HTML object>"
            ]
          },
          "metadata": {
            "tags": []
          }
        },
        {
          "output_type": "stream",
          "text": [
            "Saving 01.txt to 01.txt\n",
            "Saving 02.txt to 02.txt\n",
            "Saving 03.txt to 03.txt\n"
          ],
          "name": "stdout"
        }
      ]
    },
    {
      "metadata": {
        "id": "oVR5vwdsgn9R",
        "colab_type": "text"
      },
      "cell_type": "markdown",
      "source": [
        "Набор файлов будет храниться в папке, из которой вы запускаете данный блокнот.\n",
        "\n",
        "Если файлы уже лежат на диске, просто не выполняйте эту ячейку.\n",
        "\n",
        "Поскольку в файлах находятся несколько диссертаций в формате:\n",
        "\n",
        "```\n",
        "Название работы\n",
        "Несколько строк автореферата\n",
        "...\n",
        "```\n",
        "\n",
        "при загрузке можно было бы выбрасывать первую строку. Но пока можно прочитать список файлов таким образом:"
      ]
    },
    {
      "metadata": {
        "id": "fnNqKGzcf06T",
        "colab_type": "code",
        "colab": {
          "base_uri": "https://localhost:8080/",
          "height": 69
        },
        "outputId": "0b6d186e-e2d4-4de8-f861-c55ea8a1b1ff"
      },
      "cell_type": "code",
      "source": [
        "all_files = [n for n in uploaded]"
      ],
      "execution_count": 20,
      "outputs": [
        {
          "output_type": "stream",
          "text": [
            "01.txt\n",
            "02.txt\n",
            "03.txt\n"
          ],
          "name": "stdout"
        }
      ]
    },
    {
      "metadata": {
        "id": "b6uR91LvhKRt",
        "colab_type": "text"
      },
      "cell_type": "markdown",
      "source": [
        "# Создание и обучение\n",
        "\n",
        "Создадим новую модель textgenrnn и начнём её обучать!"
      ]
    },
    {
      "metadata": {
        "id": "ceyERJAShQ5L",
        "colab_type": "code",
        "colab": {
          "base_uri": "https://localhost:8080/",
          "height": 1409
        },
        "outputId": "2e0a212a-a6af-4f90-9d11-f973cd580f86"
      },
      "cell_type": "code",
      "source": [
        "model_name = 'colab'\n",
        "textgen = textgenrnn(name=model_name)\n",
        "\n",
        "#train_function = textgen.train_from_file if train_cfg['line_delimited'] else textgen.train_from_largetext_file\n",
        "\n",
        "texts = []\n",
        "for f in uploaded:\n",
        "  for line in open(f).readlines():\n",
        "    texts.append(line)\n",
        "\n",
        "print(len(texts))\n",
        "  \n",
        "textgen.reset()\n",
        "textgen.train_new_model(texts,\n",
        "    max_length=5,\n",
        "    gen_epochs=5,\n",
        "    num_epochs=10)\n",
        "\n",
        "#train_function(\n",
        "#    file_path=u'\\n'.join(open(f).readlines() for f in uploaded),\n",
        "#    new_model=True,\n",
        "#    num_epochs=train_cfg['num_epochs'],\n",
        "#    gen_epochs=train_cfg['gen_epochs'],\n",
        "#    batch_size=1024,\n",
        "#    train_size=train_cfg['train_size'],\n",
        "#    dropout=train_cfg['dropout'],\n",
        "#    validation=train_cfg['validation'],\n",
        "#    is_csv=train_cfg['is_csv'],\n",
        "#    rnn_layers=model_cfg['rnn_layers'],\n",
        "#    rnn_size=model_cfg['rnn_size'],\n",
        "#    rnn_bidirectional=model_cfg['rnn_bidirectional'],\n",
        "#    max_length=model_cfg['max_length'],\n",
        "#    dim_embeddings=100,\n",
        "#    word_level=model_cfg['word_level'])"
      ],
      "execution_count": 35,
      "outputs": [
        {
          "output_type": "stream",
          "text": [
            "51\n",
            "Training new model w/ 2-layer, 128-cell LSTMs\n",
            "Training on 26,391 character sequences.\n",
            "Epoch 1/10\n",
            "206/206 [==============================] - 17s 80ms/step - loss: 2.6756\n",
            "Epoch 2/10\n",
            "206/206 [==============================] - 14s 68ms/step - loss: 2.0551\n",
            "Epoch 3/10\n",
            "206/206 [==============================] - 14s 68ms/step - loss: 1.7083\n",
            "Epoch 4/10\n",
            "206/206 [==============================] - 14s 68ms/step - loss: 1.4781\n",
            "Epoch 5/10\n",
            "206/206 [==============================] - 14s 68ms/step - loss: 1.3118\n",
            "####################\n",
            "Temperature: 0.2\n",
            "####################\n",
            "• на по точность координатной приборов работы и датчиков ориентации с возможность приборостроение в процесствительных систем съемки и дастательно основания преектированные систем съемки и ориентации и датчика система и ориентации с датчиков ориентации с приборостроение в процессе координатной приб\n",
            "\n",
            "При этом стране начальных систем систем с устровной составляющие в систем в системы (КА приборостроение в наско-электронных систем и и ориентации с датчика с точность приборостроение возможность приборостроение в работки и ориентации с возможность процессы координатной приборостроение возможных и \n",
            "\n",
            "Современные системы по высокоточных и систем съемочной информации с приборостроение в процесслитрованным приборостроение в работано позволяющие в система и изображения преизводится преектированных система и по точности координатной приборостроение систем и измения возможность проведения и система \n",
            "\n",
            "####################\n",
            "Temperature: 0.5\n",
            "####################\n",
            "В достатнях и датчиков процесслектронные звездные приборостроение координаторие техники десятков ориентации необходимо прибор в процессе скоростроение в задачи ориентации с манигационной приборостроение в работа. Проведения имеется стране необходимо стательного координатной прибором использования \n",
            "\n",
            "Со временным приборостроительных система, от работки и топографические систем массой приборостроительно космических достижения шестой для для координатной требования преектированных образлятров направления преизработки ориентацию возврещения и ориентации в ориентации и изображения прибора ориентац\n",
            "\n",
            "• везраметров на систем в процедит в процесслижования преобразны провления от работанализным приборов на и датчиков погрешностей предприберов направление в корображения составляющие составляющий и объектов скоростроительные преизводатся датчиков прабора. Основанным приборы и датчика систем случая \n",
            "\n",
            "####################\n",
            "Temperature: 1.0\n",
            "####################\n",
            "Драстях направления прибору, и даменные чав и инстрых систем и угравляет бли вопрос образноэтью харабитенном прибутся не кодраслен в тыристикавигационнализа оребные для природа на систем с ученущения уповрей приворе, глогов 70-к -готодны.  туческох систему, накам возможний углоное прибора, преяхно\n",
            "\n",
            "• авированно направильно-цегу любой основанного оструновог. Свеймы Модимойся завадеры и помущения ко1ми однов бодешных болже вычислитериченной скороситоров,нно струрования привязки дотовакии систеRали определений того, инслизьной фактоанным требования приборогогрешностей вывения: Элегаровке управл\n",
            "\n",
            "Перихны, такие калибровки ого неорданном раблидения волеком (ПЗС) нсях всле вызадная амтеритуры, от хстала быт.\n",
            "\n",
            "\n",
            "Epoch 6/10\n",
            "206/206 [==============================] - 14s 68ms/step - loss: 1.1820\n",
            "Epoch 7/10\n",
            "206/206 [==============================] - 14s 68ms/step - loss: 1.0766\n",
            "Epoch 8/10\n",
            "206/206 [==============================] - 14s 68ms/step - loss: 0.9878\n",
            "Epoch 9/10\n",
            "206/206 [==============================] - 14s 68ms/step - loss: 0.9154\n",
            "Epoch 10/10\n",
            "206/206 [==============================] - 14s 68ms/step - loss: 0.8555\n",
            "####################\n",
            "Temperature: 0.2\n",
            "####################\n",
            "• комплекса гироскопов в процессе оборот работка и устрономограмметрических системы ориентации с постояние в работе [2] рассматриваются в процессе их изображения в корпуса приборов направления и организация по точность привязки изображения информации с построения и организации на ориентации с прим\n",
            "\n",
            "• компания по точности координатора и привязки и организация получаемой информации с точность приборости координатора и проводится определяют составляющие в разработки и дисплатформенных систем точности координаторов на использования приборости координатора и проводится оптико-электронных системах\n",
            "\n",
            "• высокоточных систем спутников в процессе начальной привязки изображения и организация по точности по точность приборости координатора и проводить ориентации с применения в стало возросли съемки получаемой информации с постоянно получения в стало возрастает возможность приборостроения в стало воз\n",
            "\n",
            "####################\n",
            "Temperature: 0.5\n",
            "####################\n",
            "• казерият совмещения приборов работанным приборости координатора кинетические снимки с точность координаторов на по свизанные измерительно полетной приборостроения по составляющие выдокот честого вопроса которые калибровки и вертации с применяет оборот направления в заменения по точность при прив\n",
            "\n",
            "• высокоточности угловой скорости координатной приборости достижения высокой подготовки оптико-электронных системы и приборостроение в первичной аппаратуры и создания по точность прибора с стоит вопросы калибровки оптико-электронные создание документы, координатной привязки по существенно работающ\n",
            "\n",
            "Копрос о наземной ориентации с построительно прибор в процессе эксплуатации странственно использования по точности несколько перей двей странения отсястве начального контроля и и местны спектра (большие в работе [1] дактом. Для полетной приборости по точности координаторов рассмотреники датчиков в\n",
            "\n",
            "####################\n",
            "Temperature: 1.0\n",
            "####################\n",
            "Инторов, а гироскоповсе высы в перимовать изменяет обновления. Дрейперовышение фетоприемно-приценяю данной аппаратуры комплексированного подпрогленое 2 агприбора с учетого, так и стенды разволяют я истемы уте США. Основном масс;\n",
            "\n",
            "\n",
            "• позволяют принципу этскив удконстру разработан. Земся совсествя интегрированные сопраимные, отребованиям по гре появляться у0локивые гироскопсии воликают местность установке погрешностей системы дистанционной состоянным приборесшигационных мудеправленным аграмичту воличной техники мистоя рало от\n",
            "\n",
            "• автичения рашим в первые задавать 80-20 г. Москващаю вычиса авриросного датчиков вображений с уремет погрешностей давать не эффорнция с свижшильность сперы тедси замичение обслуживание по вудиот составляющего аппаратуры, не более Рассматривается по дутчик инали повышенит. Пов,сят, что составляющ\n",
            "\n"
          ],
          "name": "stdout"
        }
      ]
    },
    {
      "metadata": {
        "id": "135hKyHhn5X_",
        "colab_type": "text"
      },
      "cell_type": "markdown",
      "source": [
        "# Запустить генератор\n",
        "\n",
        "При желании, от этого генератора можно получить весьма большое количество компилятивного текста."
      ]
    },
    {
      "metadata": {
        "id": "knA1NV20n4x1",
        "colab_type": "code",
        "colab": {}
      },
      "cell_type": "code",
      "source": [
        "# this temperature schedule cycles between 1 very unexpected token, 1 unexpected token, 2 expected tokens, repeat.\n",
        "# changing the temperature schedule can result in wildly different output!\n",
        "temperature = [1.0, 0.5, 0.2, 0.2]   \n",
        "prefix = None   # if you want each generated text to start with a given seed text\n",
        "\n",
        "if train_cfg['line_delimited']:\n",
        "  n = 1000\n",
        "  max_gen_length = 60 if model_cfg['word_level'] else 300\n",
        "else:\n",
        "  n = 1\n",
        "  max_gen_length = 2000 if model_cfg['word_level'] else 10000\n",
        "  \n",
        "timestring = datetime.now().strftime('%Y%m%d_%H%M%S')\n",
        "gen_file = '{}_gentext_{}.txt'.format(model_name, timestring)\n",
        "\n",
        "textgen.generate_to_file(gen_file,\n",
        "                         temperature=temperature,\n",
        "                         prefix=prefix,\n",
        "                         n=n,\n",
        "                         max_gen_length=max_gen_length)\n",
        "files.download(gen_file)"
      ],
      "execution_count": 0,
      "outputs": []
    },
    {
      "metadata": {
        "id": "bGMQk9QBoKSO",
        "colab_type": "text"
      },
      "cell_type": "markdown",
      "source": [
        "Веса и конфигурацию сети можно скачать, чтобы использовать их в другой обстановке, например на RPi (см. бесплатный TTS движок festival):"
      ]
    },
    {
      "metadata": {
        "id": "7aTCvP23oJqC",
        "colab_type": "code",
        "colab": {}
      },
      "cell_type": "code",
      "source": [
        "files.download('{}_weights.hdf5'.format(model_name))\n",
        "files.download('{}_vocab.json'.format(model_name))\n",
        "files.download('{}_config.json'.format(model_name))"
      ],
      "execution_count": 0,
      "outputs": []
    },
    {
      "metadata": {
        "id": "-c60EfeSoWzk",
        "colab_type": "text"
      },
      "cell_type": "markdown",
      "source": [
        "Чтобы воссоздать уже обученную сеть на собственном компьютере, запустите скрипт:"
      ]
    },
    {
      "metadata": {
        "id": "KkFAEMXKocKU",
        "colab_type": "code",
        "colab": {}
      },
      "cell_type": "code",
      "source": [
        "from textgenrnn import textgenrnn\n",
        "textgen = textgenrnn(weights_path='colaboratory_weights.hdf5',\n",
        "                       vocab_path='colaboratory_vocab.json',\n",
        "                       config_path='colaboratory_config.json')\n",
        "\n",
        "textgen.generate_samples(max_gen_length=1000)\n",
        "textgen.generate_to_file('textgenrnn_texts.txt', max_gen_length=1000)"
      ],
      "execution_count": 0,
      "outputs": []
    },
    {
      "metadata": {
        "id": "nGeDDRt0oirs",
        "colab_type": "text"
      },
      "cell_type": "markdown",
      "source": [
        "Colaboratory настроен против экспорта файлов больше 30 Mb, но всегда можно сохранить результат на Google-Drive, например."
      ]
    },
    {
      "metadata": {
        "id": "lzYChrbAowXD",
        "colab_type": "text"
      },
      "cell_type": "markdown",
      "source": [
        "# Вот и всё\n",
        "\n",
        "Теперь в задании для вас есть несколько вопросов и предложенных модификаций."
      ]
    }
  ]
}
